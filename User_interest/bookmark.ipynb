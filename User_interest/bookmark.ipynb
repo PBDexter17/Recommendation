{
 "cells": [
  {
   "cell_type": "markdown",
   "metadata": {},
   "source": [
    "Get url list of user"
   ]
  },
  {
   "cell_type": "code",
   "execution_count": 1,
   "metadata": {},
   "outputs": [],
   "source": [
    "from json import loads\n",
    "import argparse\n",
    "from platform import system\n",
    "from re import match\n",
    "from os import environ\n",
    "from os.path import expanduser"
   ]
  },
  {
   "cell_type": "code",
   "execution_count": 2,
   "metadata": {},
   "outputs": [],
   "source": [
    "filter_name_list = {}\n",
    "html_escape_table = {\n",
    "    \"&\": \"&amp;\",\n",
    "    '\"': \"&quot;\",\n",
    "    \"'\": \"&#39;\",\n",
    "    \">\": \"&gt;\",\n",
    "    \"<\": \"&lt;\",\n",
    "}\n",
    "if system() == \"Darwin\":\n",
    "    input_filename = expanduser(\"~/Library/Application Support/Google/Chrome/Default/Bookmarks\")\n",
    "elif system() == \"Linux\":\n",
    "    input_filename = expanduser(\"~/.config/google-chrome/Default/Bookmarks\")\n",
    "elif system() == \"Windows\":\n",
    "    input_filename = environ[\"LOCALAPPDATA\"] + r\"\\Google\\Chrome\\User Data\\Default\\Bookmarks\"\n",
    "    #print(\"Windows\")\n",
    "else:\n",
    "    print('System is not recognized.')\n",
    "    exit(1)\n",
    "    \n",
    "try:\n",
    "    input_file = open(input_filename, 'r', encoding='utf-8')\n",
    "except IOError as e:\n",
    "    if e.errno ==2:\n",
    "        print(\"The bookmarks file could not be found in its default location ({}). \".format(e.filename) +\n",
    "                \"Please specify the input file manually.\")\n",
    "        exit(1)"
   ]
  },
  {
   "cell_type": "code",
   "execution_count": 3,
   "metadata": {},
   "outputs": [],
   "source": [
    "catelog = list()\n",
    "url_list = list()\n",
    "\n",
    "def html_escape(text):\n",
    "    return ''.join(html_escape_table.get(c, c) for c in text)\n",
    "\n",
    "def html_for_node(node):\n",
    "    if 'url' in node:\n",
    "        return html_for_url_node(node)\n",
    "    elif 'children' in node:\n",
    "        return html_for_parent_node(node)\n",
    "    else:\n",
    "        return ''\n",
    "\n",
    "def html_for_url_node(node):\n",
    "    if not match(\"javascript:\", node['url']):\n",
    "        url_list.append(node['url'])\n",
    "        return '- [{}]({})\\n'.format(node['name'], node['url'])\n",
    "    else:\n",
    "        return ''\n",
    "    \n",
    "def html_for_parent_node(node):\n",
    "    return '{0}\\n\\n{1}\\n'.format(filter_catelog_name(node), ''.join([filter_name(n) for n in node['children']]))\n",
    "\n",
    "def filter_name(n):\n",
    "    if n['name'] in filter_name_list:\n",
    "        return ''\n",
    "    else:\n",
    "        return html_for_node(n)\n",
    "\n",
    "def filter_catelog_name(n):\n",
    "    if n['name'] in filter_name_list:\n",
    "        return ''\n",
    "    else:\n",
    "        catelog.append('- [{0}](#{0})\\n'.format(n['name']))\n",
    "        return '<h4 id={0}>{0}</h4>'.format(n['name'])\n",
    "    \n",
    "contents = loads(input_file.read())\n",
    "input_file.close()\n",
    "\n",
    "bookmark_bar = html_for_node(contents['roots']['bookmark_bar'])\n",
    "#other = html_for_node(contents['roots']['other'])\n",
    "catelog_str = ''.join(a for a in catelog)"
   ]
  },
  {
   "cell_type": "code",
   "execution_count": 4,
   "metadata": {},
   "outputs": [],
   "source": [
    "#output_filename = 'C:/Users/lujun/Downloads/list.txt'\n",
    "output_filename = 'url_list.txt'\n",
    "output_file = open(output_filename, 'w', encoding='utf-8')\n",
    "#output_file.write(output_file_template.format(catelog=catelog_str, bookmark_bar=bookmark_bar, other=other))\n",
    "for line in url_list:\n",
    "    output_file.write(line)\n",
    "    output_file.write('\\n')\n",
    "output_file.close()"
   ]
  },
  {
   "cell_type": "code",
   "execution_count": null,
   "metadata": {},
   "outputs": [],
   "source": []
  }
 ],
 "metadata": {
  "kernelspec": {
   "display_name": "Python 3",
   "language": "python",
   "name": "python3"
  },
  "language_info": {
   "codemirror_mode": {
    "name": "ipython",
    "version": 3
   },
   "file_extension": ".py",
   "mimetype": "text/x-python",
   "name": "python",
   "nbconvert_exporter": "python",
   "pygments_lexer": "ipython3",
   "version": "3.6.5"
  }
 },
 "nbformat": 4,
 "nbformat_minor": 2
}
