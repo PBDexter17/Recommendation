{
 "cells": [
  {
   "cell_type": "markdown",
   "metadata": {},
   "source": [
    "Get the movie list"
   ]
  },
  {
   "cell_type": "code",
   "execution_count": 11,
   "metadata": {},
   "outputs": [],
   "source": [
    "from bs4 import BeautifulSoup\n",
    "import urllib.request\n",
    "import re\n",
    "import nltk\n",
    "from string import punctuation\n",
    "from nltk.corpus import stopwords\n",
    "from nltk.stem.lancaster import LancasterStemmer\n",
    "def UrlToHtml(url):\n",
    "    headers = {'User-Agent':'Mozilla/5.0 (Windows NT 6.1; WOW64; rv:23.0) Gecko/20100101 Firefox/23.0'}\n",
    "    req = urllib.request.Request(url=url, headers=headers)\n",
    "    html = urllib.request.urlopen(req).read()\n",
    "    return html\n",
    "def UrlToWords(url,clean):\n",
    "    headers = {'User-Agent':'Mozilla/5.0 (Windows NT 6.1; WOW64; rv:23.0) Gecko/20100101 Firefox/23.0'}\n",
    "    req = urllib.request.Request(url=url, headers=headers)\n",
    "    html = urllib.request.urlopen(req).read()\n",
    "    soup = BeautifulSoup(html, \"lxml\")\n",
    "    st = LancasterStemmer()\n",
    "    [s.extract() for s in soup('script')]\n",
    "    [s.extract() for s in soup('style')]\n",
    "    string = soup.get_text()\n",
    "    tokens = nltk.word_tokenize(string)\n",
    "    text = [w.lower() for w in tokens]\n",
    "    \n",
    "    all_p = punctuation + '--' + '|' +'-' + '~' + '``' + '\\\"\"'\n",
    "    words = []\n",
    "    for i in text:\n",
    "        i = re.sub(r'[0-9]|/d+', '', i)\n",
    "        i = re.sub('\\s+', '', i)\n",
    "        if i != '' and len(i) <= 15 and re.search(r'[A-za-z]', i):\n",
    "            words.append(i)\n",
    "            if i in all_p:\n",
    "                words.remove(i)\n",
    "    \n",
    "    if clean == True:\n",
    "        stop = stopwords.words('english')\n",
    "        words = [w for w in words if w not in stop]\n",
    "        words = [w for w in words if len(w)>=2]\n",
    "        words = [st.stem(word) for word in words]\n",
    "        \n",
    "    return words\n",
    "\n",
    "# get words frequences greater than p \n",
    "import collections\n",
    "def get_top_fre(words, p):\n",
    "    fre = collections.Counter(words)\n",
    "    fre = fre.most_common()\n",
    "    fre = dict(fre)\n",
    "    t1 = []\n",
    "    t2 = []\n",
    "    for k,v in fre.items():\n",
    "        if v>p:\n",
    "            t1.append(k)\n",
    "            t2.append(v)\n",
    "    #frequences = dict(zip(t1,t2))\n",
    "    return t1\n",
    "\n",
    "def get_count(words):\n",
    "    fre = collections.Counter(words)\n",
    "    return fre"
   ]
  },
  {
   "cell_type": "code",
   "execution_count": 16,
   "metadata": {},
   "outputs": [],
   "source": [
    "url = 'https://www.imdb.com/chart/top-english-movies'\n",
    "html = UrlToHtml(url)"
   ]
  },
  {
   "cell_type": "code",
   "execution_count": 32,
   "metadata": {},
   "outputs": [],
   "source": [
    "soup = BeautifulSoup(html, \"lxml\")\n",
    "movie_list_withtag = soup.find_all('td', attrs={'class':'titleColumn'})"
   ]
  },
  {
   "cell_type": "code",
   "execution_count": 43,
   "metadata": {},
   "outputs": [],
   "source": [
    "movie_list = []\n",
    "for x in movie_list_withtag:\n",
    "    movie_list.append(x.contents[1].get_text())\n",
    "\n",
    "output_filename = 'Movie_list.txt'\n",
    "output_file = open(output_filename, 'w', encoding='utf-8')\n",
    "for y in movie_list:\n",
    "    output_file.write(y)\n",
    "    output_file.write('\\n')\n",
    "output_file.close()"
   ]
  }
 ],
 "metadata": {
  "kernelspec": {
   "display_name": "Python 3",
   "language": "python",
   "name": "python3"
  },
  "language_info": {
   "codemirror_mode": {
    "name": "ipython",
    "version": 3
   },
   "file_extension": ".py",
   "mimetype": "text/x-python",
   "name": "python",
   "nbconvert_exporter": "python",
   "pygments_lexer": "ipython3",
   "version": "3.6.5"
  }
 },
 "nbformat": 4,
 "nbformat_minor": 2
}
