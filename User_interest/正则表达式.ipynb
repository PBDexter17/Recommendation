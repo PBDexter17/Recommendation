{
 "cells": [
  {
   "cell_type": "markdown",
   "metadata": {},
   "source": [
    "基本urllib用法"
   ]
  },
  {
   "cell_type": "code",
   "execution_count": null,
   "metadata": {
    "collapsed": true
   },
   "outputs": [],
   "source": [
    "import urllib.request\n",
    "file = urllib.request.urlopen(\"http://www.baidu.com\")\n",
    "\n",
    "data = file.read()\n",
    "dataline = file.readline()\n",
    "\n",
    "fhandle = open(\"E:/Python_workspace/spider/1.html\", \"wb\")\n",
    "fhandle.write(data)\n",
    "fhandle.close()"
   ]
  },
  {
   "cell_type": "code",
   "execution_count": 10,
   "metadata": {},
   "outputs": [],
   "source": [
    "import urllib.request\n",
    "#url = \"https://blog.csdn.net/zm714981790/article/details/51304506\"\n",
    "url = \"https://blog.csdn.net/weiwei_pig/article/details/51178226\"\n",
    "file = urllib.request.urlopen(url)"
   ]
  },
  {
   "cell_type": "markdown",
   "metadata": {},
   "source": [
    "### 正则表达式\n",
    "- 普通字符作为原子"
   ]
  },
  {
   "cell_type": "code",
   "execution_count": 14,
   "metadata": {},
   "outputs": [
    {
     "name": "stdout",
     "output_type": "stream",
     "text": [
      "<_sre.SRE_Match object; span=(16, 19), match='yue'>\n"
     ]
    }
   ],
   "source": [
    "import re\n",
    "pattern = \"yue\"\n",
    "string = \"http://yum,iqianyue.com\"\n",
    "result1 = re.search(pattern, string)\n",
    "print(result1)"
   ]
  },
  {
   "cell_type": "markdown",
   "metadata": {},
   "source": [
    "- 非打印字符作为原子\n",
    "\n",
    "字符串中用于格式控制的符号，比如换行符。"
   ]
  },
  {
   "cell_type": "code",
   "execution_count": 15,
   "metadata": {},
   "outputs": [
    {
     "name": "stdout",
     "output_type": "stream",
     "text": [
      "<_sre.SRE_Match object; span=(23, 24), match='\\n'>\n"
     ]
    }
   ],
   "source": [
    "import re\n",
    "pattern = \"\\n\"\n",
    "string = '''http://yum.iqianyue.com\n",
    "http://baidu.com'''\n",
    "result2 = re.search(pattern, string)\n",
    "print(result2)"
   ]
  },
  {
   "cell_type": "markdown",
   "metadata": {},
   "source": [
    "- 通用字符作为原子\n",
    "\n",
    "一个原子用来匹配一类字符。\\w匹配任意字母数字下划线，\\d匹配任意一个十进制数"
   ]
  },
  {
   "cell_type": "code",
   "execution_count": 16,
   "metadata": {},
   "outputs": [
    {
     "name": "stdout",
     "output_type": "stream",
     "text": [
      "<_sre.SRE_Match object; span=(9, 18), match='45pythony'>\n"
     ]
    }
   ],
   "source": [
    "import re\n",
    "pattern = \"\\w\\dpython\\w\"\n",
    "string = \"abcdfphp345pythony_py\"\n",
    "result3 = re.search(pattern, string)\n",
    "print(result3)"
   ]
  },
  {
   "cell_type": "markdown",
   "metadata": {},
   "source": [
    "- 原子表"
   ]
  },
  {
   "cell_type": "code",
   "execution_count": 18,
   "metadata": {},
   "outputs": [
    {
     "name": "stdout",
     "output_type": "stream",
     "text": [
      "<_sre.SRE_Match object; span=(9, 19), match='45pythony_'>\n",
      "None\n",
      "None\n"
     ]
    }
   ],
   "source": [
    "import re\n",
    "pattern1 = \"\\w\\dpython[xyz]\\w\"\n",
    "pattern2 = \"\\w\\dpython[^xyz]\\w\"\n",
    "pattern3 = \"\\w\\dpython[xyz]\\W\"\n",
    "string = \"adcdfphp345pythony_py\"\n",
    "result1 = re.search(pattern1, string)\n",
    "result2 = re.search(pattern2, string)\n",
    "result3 = re.search(pattern3, string)\n",
    "print(result1)\n",
    "print(result2)\n",
    "print(result3)"
   ]
  },
  {
   "cell_type": "markdown",
   "metadata": {},
   "source": [
    "- 元字符\n",
    "\n",
    ". 可以用来匹配除换行符以外的任意字符。"
   ]
  },
  {
   "cell_type": "code",
   "execution_count": 19,
   "metadata": {},
   "outputs": [
    {
     "name": "stdout",
     "output_type": "stream",
     "text": [
      "<_sre.SRE_Match object; span=(10, 20), match='5pythony_p'>\n"
     ]
    }
   ],
   "source": [
    "import re\n",
    "pattern = \".python...\"\n",
    "string = \"abcdfphp345pythony_py\"\n",
    "result1 = re.search(pattern, string)\n",
    "print(result1)"
   ]
  },
  {
   "cell_type": "markdown",
   "metadata": {},
   "source": [
    "边界限制元字符"
   ]
  },
  {
   "cell_type": "code",
   "execution_count": 20,
   "metadata": {},
   "outputs": [
    {
     "name": "stdout",
     "output_type": "stream",
     "text": [
      "None\n",
      "<_sre.SRE_Match object; span=(0, 3), match='abc'>\n",
      "<_sre.SRE_Match object; span=(19, 21), match='py'>\n",
      "None\n"
     ]
    }
   ],
   "source": [
    "import re\n",
    "pattern1 = \"^abd\"\n",
    "pattern2 = \"^abc\"\n",
    "pattern3 = \"py$\"\n",
    "pattern4 = \"ay$\"\n",
    "string = \"abcdfphp345pythony_py\"\n",
    "result1 = re.search(pattern1, string)\n",
    "result2 = re.search(pattern2, string)\n",
    "result3 = re.search(pattern3, string)\n",
    "result4 = re.search(pattern4, string)\n",
    "\n",
    "print(result1)\n",
    "print(result2)\n",
    "print(result3)\n",
    "print(result4)"
   ]
  },
  {
   "cell_type": "markdown",
   "metadata": {},
   "source": [
    "限定符"
   ]
  },
  {
   "cell_type": "code",
   "execution_count": 23,
   "metadata": {},
   "outputs": [
    {
     "name": "stdout",
     "output_type": "stream",
     "text": [
      "<_sre.SRE_Match object; span=(13, 19), match='python'>\n",
      "<_sre.SRE_Match object; span=(2, 5), match='cdd'>\n",
      "<_sre.SRE_Match object; span=(2, 6), match='cddd'>\n",
      "None\n"
     ]
    }
   ],
   "source": [
    "import re\n",
    "pattern1 = \"py.*n\"\n",
    "pattern2 = \"cd{2}\"\n",
    "pattern3 = \"cd{3}\"\n",
    "pattern4 = \"cd{2, }\"\n",
    "string = \"abcdddfphp345pythony_py\"\n",
    "result1 = re.search(pattern1, string)\n",
    "result2 = re.search(pattern2, string)\n",
    "result3 = re.search(pattern3, string)\n",
    "result4 = re.search(pattern4, string)\n",
    "\n",
    "print(result1)\n",
    "print(result2)\n",
    "print(result3)\n",
    "print(result4)"
   ]
  },
  {
   "cell_type": "markdown",
   "metadata": {},
   "source": [
    "模式选择符"
   ]
  },
  {
   "cell_type": "code",
   "execution_count": 24,
   "metadata": {},
   "outputs": [
    {
     "name": "stdout",
     "output_type": "stream",
     "text": [
      "<_sre.SRE_Match object; span=(5, 8), match='php'>\n"
     ]
    }
   ],
   "source": [
    "import re\n",
    "pattern = \"python|php\"\n",
    "string = \"abcdfphp345pythony_py\"\n",
    "result1 = re.search(pattern, string)\n",
    "print(result1)"
   ]
  },
  {
   "cell_type": "markdown",
   "metadata": {},
   "source": [
    "匹配.com 或 .cn的后缀的url网址"
   ]
  },
  {
   "cell_type": "code",
   "execution_count": 33,
   "metadata": {},
   "outputs": [
    {
     "name": "stdout",
     "output_type": "stream",
     "text": [
      "<_sre.SRE_Match object; span=(11, 31), match='http://www.baidu.com'>\n"
     ]
    }
   ],
   "source": [
    "import re\n",
    "pattern = \"[a-zA-Z]+://[^\\s]*[.com|.cn]\" #表达式不能有空格\n",
    "string = \"<a href = 'http://www.baidu.com'>百度首页</a>\"\n",
    "result = re.search(pattern, string)\n",
    "print(result)"
   ]
  },
  {
   "cell_type": "markdown",
   "metadata": {},
   "source": [
    "匹配电话号码"
   ]
  },
  {
   "cell_type": "code",
   "execution_count": 35,
   "metadata": {},
   "outputs": [
    {
     "name": "stdout",
     "output_type": "stream",
     "text": [
      "<_sre.SRE_Match object; span=(0, 12), match='021-67282636'>\n"
     ]
    }
   ],
   "source": [
    "import re\n",
    "pattern = \"\\d{4}-\\d{7}|\\d{3}-\\d{8}\"\n",
    "string = \"021-6728263653682382265236\"\n",
    "result = re.search(pattern, string)\n",
    "print(result)"
   ]
  },
  {
   "cell_type": "markdown",
   "metadata": {},
   "source": [
    "匹配电子邮件地址"
   ]
  },
  {
   "cell_type": "code",
   "execution_count": 37,
   "metadata": {},
   "outputs": [],
   "source": [
    "import re\n",
    "pattern = \"\\w+([.+-]\\w+)*@\\w+([.-]\\w+)*\\.\\w+([.-]\\w+)*\""
   ]
  }
 ],
 "metadata": {
  "kernelspec": {
   "display_name": "Python 3",
   "language": "python",
   "name": "python3"
  },
  "language_info": {
   "codemirror_mode": {
    "name": "ipython",
    "version": 3
   },
   "file_extension": ".py",
   "mimetype": "text/x-python",
   "name": "python",
   "nbconvert_exporter": "python",
   "pygments_lexer": "ipython3",
   "version": "3.6.5"
  }
 },
 "nbformat": 4,
 "nbformat_minor": 2
}
